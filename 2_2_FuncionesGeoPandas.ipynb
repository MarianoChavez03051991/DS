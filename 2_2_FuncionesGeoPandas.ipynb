{
  "nbformat": 4,
  "nbformat_minor": 0,
  "metadata": {
    "colab": {
      "provenance": []
    },
    "kernelspec": {
      "name": "python3",
      "display_name": "Python 3"
    },
    "language_info": {
      "name": "python"
    }
  },
  "cells": [
    {
      "cell_type": "code",
      "execution_count": 35,
      "metadata": {
        "id": "p6HmzREUBlYd"
      },
      "outputs": [],
      "source": [
        "import pandas as pd\n",
        "import numpy as np\n",
        "import matplotlib.pyplot as plt\n",
        "import seaborn as sns\n",
        "from shapely.geometry import Point, LineString, Polygon\n",
        "import geopandas as gpd\n",
        "from geopandas import GeoDataFrame\n",
        "from geopandas import GeoSeries"
      ]
    },
    {
      "cell_type": "code",
      "source": [
        "## escritura de puntos\n",
        "\n",
        "punto1 = Point(2.2,4.2)\n",
        "punto1"
      ],
      "metadata": {
        "colab": {
          "base_uri": "https://localhost:8080/",
          "height": 121
        },
        "id": "jSJ_bl4ZCOAX",
        "outputId": "0a7b46df-9866-4696-81b7-a500c294c001"
      },
      "execution_count": 36,
      "outputs": [
        {
          "output_type": "execute_result",
          "data": {
            "text/plain": [
              "<POINT (2.2 4.2)>"
            ],
            "image/svg+xml": "<svg xmlns=\"http://www.w3.org/2000/svg\" xmlns:xlink=\"http://www.w3.org/1999/xlink\" width=\"100.0\" height=\"100.0\" viewBox=\"1.2000000000000002 3.2 2.0 2.0\" preserveAspectRatio=\"xMinYMin meet\"><g transform=\"matrix(1,0,0,-1,0,8.4)\"><circle cx=\"2.2\" cy=\"4.2\" r=\"0.06\" stroke=\"#555555\" stroke-width=\"0.02\" fill=\"#66cc99\" opacity=\"0.6\" /></g></svg>"
          },
          "metadata": {},
          "execution_count": 36
        }
      ]
    },
    {
      "cell_type": "code",
      "source": [
        "punto2 = Point(7,-25)\n",
        "punto2"
      ],
      "metadata": {
        "colab": {
          "base_uri": "https://localhost:8080/",
          "height": 121
        },
        "id": "wqCFMkdbCbxX",
        "outputId": "d798cd7d-b5c5-480f-a5e4-c7eddd7715e9"
      },
      "execution_count": 37,
      "outputs": [
        {
          "output_type": "execute_result",
          "data": {
            "text/plain": [
              "<POINT (7 -25)>"
            ],
            "image/svg+xml": "<svg xmlns=\"http://www.w3.org/2000/svg\" xmlns:xlink=\"http://www.w3.org/1999/xlink\" width=\"100.0\" height=\"100.0\" viewBox=\"6.0 -26.0 2.0 2.0\" preserveAspectRatio=\"xMinYMin meet\"><g transform=\"matrix(1,0,0,-1,0,-50.0)\"><circle cx=\"7.0\" cy=\"-25.0\" r=\"0.06\" stroke=\"#555555\" stroke-width=\"0.02\" fill=\"#66cc99\" opacity=\"0.6\" /></g></svg>"
          },
          "metadata": {},
          "execution_count": 37
        }
      ]
    },
    {
      "cell_type": "code",
      "source": [
        "punto3 = Point(9.26,-2.456)\n",
        "punto3"
      ],
      "metadata": {
        "colab": {
          "base_uri": "https://localhost:8080/",
          "height": 121
        },
        "id": "mHYOtpscChZS",
        "outputId": "27415d0f-72f8-4651-856b-4c849796dba2"
      },
      "execution_count": 38,
      "outputs": [
        {
          "output_type": "execute_result",
          "data": {
            "text/plain": [
              "<POINT (9.26 -2.456)>"
            ],
            "image/svg+xml": "<svg xmlns=\"http://www.w3.org/2000/svg\" xmlns:xlink=\"http://www.w3.org/1999/xlink\" width=\"100.0\" height=\"100.0\" viewBox=\"8.26 -3.456 2.0 2.0\" preserveAspectRatio=\"xMinYMin meet\"><g transform=\"matrix(1,0,0,-1,0,-4.912)\"><circle cx=\"9.26\" cy=\"-2.456\" r=\"0.06\" stroke=\"#555555\" stroke-width=\"0.02\" fill=\"#66cc99\" opacity=\"0.6\" /></g></svg>"
          },
          "metadata": {},
          "execution_count": 38
        }
      ]
    },
    {
      "cell_type": "code",
      "source": [
        "punto3D = Point(9.26,-2.456,0.57)\n",
        "punto3D"
      ],
      "metadata": {
        "colab": {
          "base_uri": "https://localhost:8080/",
          "height": 121
        },
        "id": "qXDg-gd7CoMv",
        "outputId": "b7d0e23a-6dae-49b7-f9ca-7eac1406df68"
      },
      "execution_count": 39,
      "outputs": [
        {
          "output_type": "execute_result",
          "data": {
            "text/plain": [
              "<POINT Z (9.26 -2.456 0.57)>"
            ],
            "image/svg+xml": "<svg xmlns=\"http://www.w3.org/2000/svg\" xmlns:xlink=\"http://www.w3.org/1999/xlink\" width=\"100.0\" height=\"100.0\" viewBox=\"8.26 -3.456 2.0 2.0\" preserveAspectRatio=\"xMinYMin meet\"><g transform=\"matrix(1,0,0,-1,0,-4.912)\"><circle cx=\"9.26\" cy=\"-2.456\" r=\"0.06\" stroke=\"#555555\" stroke-width=\"0.02\" fill=\"#66cc99\" opacity=\"0.6\" /></g></svg>"
          },
          "metadata": {},
          "execution_count": 39
        }
      ]
    },
    {
      "cell_type": "code",
      "source": [
        "print(punto1)\n",
        "print(punto2)\n",
        "print(punto3)\n",
        "print(punto3D)"
      ],
      "metadata": {
        "colab": {
          "base_uri": "https://localhost:8080/"
        },
        "id": "YQqvsc8RCy2-",
        "outputId": "7605ebc5-8508-4b78-d1b4-c1a15f96ab98"
      },
      "execution_count": 40,
      "outputs": [
        {
          "output_type": "stream",
          "name": "stdout",
          "text": [
            "POINT (2.2 4.2)\n",
            "POINT (7 -25)\n",
            "POINT (9.26 -2.456)\n",
            "POINT Z (9.26 -2.456 0.57)\n"
          ]
        }
      ]
    },
    {
      "cell_type": "code",
      "source": [
        "punto1.geom_type"
      ],
      "metadata": {
        "colab": {
          "base_uri": "https://localhost:8080/",
          "height": 35
        },
        "id": "B-qmOIdxC7SH",
        "outputId": "e089991e-622d-41c8-f7c9-40f8d98ce6ce"
      },
      "execution_count": 41,
      "outputs": [
        {
          "output_type": "execute_result",
          "data": {
            "text/plain": [
              "'Point'"
            ],
            "application/vnd.google.colaboratory.intrinsic+json": {
              "type": "string"
            }
          },
          "metadata": {},
          "execution_count": 41
        }
      ]
    },
    {
      "cell_type": "code",
      "source": [
        "punto1.coords"
      ],
      "metadata": {
        "colab": {
          "base_uri": "https://localhost:8080/"
        },
        "id": "xeYqnmT8C-Oo",
        "outputId": "c2fbcaa9-0001-453f-d973-f6408570bc1b"
      },
      "execution_count": 42,
      "outputs": [
        {
          "output_type": "execute_result",
          "data": {
            "text/plain": [
              "<shapely.coords.CoordinateSequence at 0x7a0e02e2cc90>"
            ]
          },
          "metadata": {},
          "execution_count": 42
        }
      ]
    },
    {
      "cell_type": "code",
      "source": [
        "list(punto1.coords)"
      ],
      "metadata": {
        "colab": {
          "base_uri": "https://localhost:8080/"
        },
        "id": "_HZTRkbqDHXH",
        "outputId": "2deb49c9-d2e2-48a5-ed2b-5efca70daab3"
      },
      "execution_count": 43,
      "outputs": [
        {
          "output_type": "execute_result",
          "data": {
            "text/plain": [
              "[(2.2, 4.2)]"
            ]
          },
          "metadata": {},
          "execution_count": 43
        }
      ]
    },
    {
      "cell_type": "code",
      "source": [
        "punto3D.x"
      ],
      "metadata": {
        "colab": {
          "base_uri": "https://localhost:8080/"
        },
        "id": "ntl_a4LvDJbu",
        "outputId": "003413c1-8335-4311-8bee-4ae72a462688"
      },
      "execution_count": 44,
      "outputs": [
        {
          "output_type": "execute_result",
          "data": {
            "text/plain": [
              "9.26"
            ]
          },
          "metadata": {},
          "execution_count": 44
        }
      ]
    },
    {
      "cell_type": "code",
      "source": [
        "punto3D.y"
      ],
      "metadata": {
        "colab": {
          "base_uri": "https://localhost:8080/"
        },
        "id": "tDTxVkw2DNw6",
        "outputId": "d31226ff-c2c4-42ce-fa0d-a820da62614f"
      },
      "execution_count": 45,
      "outputs": [
        {
          "output_type": "execute_result",
          "data": {
            "text/plain": [
              "-2.456"
            ]
          },
          "metadata": {},
          "execution_count": 45
        }
      ]
    },
    {
      "cell_type": "code",
      "source": [
        "punto3D.z"
      ],
      "metadata": {
        "colab": {
          "base_uri": "https://localhost:8080/"
        },
        "id": "wHWqEVlmDQVO",
        "outputId": "cb95bd40-4b7c-497b-e984-9c6d71963831"
      },
      "execution_count": 46,
      "outputs": [
        {
          "output_type": "execute_result",
          "data": {
            "text/plain": [
              "0.57"
            ]
          },
          "metadata": {},
          "execution_count": 46
        }
      ]
    },
    {
      "cell_type": "code",
      "source": [
        "punto1.distance(punto2)"
      ],
      "metadata": {
        "colab": {
          "base_uri": "https://localhost:8080/"
        },
        "id": "56phbyaZDVIk",
        "outputId": "499cb9c7-cd32-410e-e15b-fb299b264f7f"
      },
      "execution_count": 47,
      "outputs": [
        {
          "output_type": "execute_result",
          "data": {
            "text/plain": [
              "29.591890781090687"
            ]
          },
          "metadata": {},
          "execution_count": 47
        }
      ]
    },
    {
      "cell_type": "code",
      "source": [
        "print(\"{0:.2f}\".format(punto1.distance(punto2)))"
      ],
      "metadata": {
        "colab": {
          "base_uri": "https://localhost:8080/"
        },
        "id": "ieo6jRFtDZEi",
        "outputId": "402276ee-7dbb-47b4-dfeb-5f61310b2312"
      },
      "execution_count": 48,
      "outputs": [
        {
          "output_type": "stream",
          "name": "stdout",
          "text": [
            "29.59\n"
          ]
        }
      ]
    },
    {
      "cell_type": "code",
      "source": [
        "linea = LineString([punto1,punto2,punto3])\n",
        "linea"
      ],
      "metadata": {
        "colab": {
          "base_uri": "https://localhost:8080/",
          "height": 121
        },
        "id": "I7_eRyUGDxyW",
        "outputId": "e552e08e-0567-4655-b499-d1323c888d58"
      },
      "execution_count": 49,
      "outputs": [
        {
          "output_type": "execute_result",
          "data": {
            "text/plain": [
              "<LINESTRING (2.2 4.2, 7 -25, 9.26 -2.456)>"
            ],
            "image/svg+xml": "<svg xmlns=\"http://www.w3.org/2000/svg\" xmlns:xlink=\"http://www.w3.org/1999/xlink\" width=\"100.0\" height=\"100.0\" viewBox=\"1.0320000000000003 -26.168 9.395999999999999 31.536\" preserveAspectRatio=\"xMinYMin meet\"><g transform=\"matrix(1,0,0,-1,0,-20.799999999999997)\"><polyline fill=\"none\" stroke=\"#66cc99\" stroke-width=\"0.6307200000000001\" points=\"2.2,4.2 7.0,-25.0 9.26,-2.456\" opacity=\"0.8\" /></g></svg>"
          },
          "metadata": {},
          "execution_count": 49
        }
      ]
    },
    {
      "cell_type": "code",
      "source": [
        "print(linea)"
      ],
      "metadata": {
        "colab": {
          "base_uri": "https://localhost:8080/"
        },
        "id": "jOJb-z4yD-Ny",
        "outputId": "f319b470-7c33-4ac9-ac20-138e6ab2069b"
      },
      "execution_count": 50,
      "outputs": [
        {
          "output_type": "stream",
          "name": "stdout",
          "text": [
            "LINESTRING (2.2 4.2, 7 -25, 9.26 -2.456)\n"
          ]
        }
      ]
    },
    {
      "cell_type": "code",
      "source": [
        "linea2 = LineString([(2.2, 4.2), (7, -25), (9.26, -2.456)])\n",
        "linea2"
      ],
      "metadata": {
        "colab": {
          "base_uri": "https://localhost:8080/",
          "height": 121
        },
        "id": "d7rJMV-qECJH",
        "outputId": "a4ae1e9d-087a-4bfe-d92e-f22088d914fc"
      },
      "execution_count": 51,
      "outputs": [
        {
          "output_type": "execute_result",
          "data": {
            "text/plain": [
              "<LINESTRING (2.2 4.2, 7 -25, 9.26 -2.456)>"
            ],
            "image/svg+xml": "<svg xmlns=\"http://www.w3.org/2000/svg\" xmlns:xlink=\"http://www.w3.org/1999/xlink\" width=\"100.0\" height=\"100.0\" viewBox=\"1.0320000000000003 -26.168 9.395999999999999 31.536\" preserveAspectRatio=\"xMinYMin meet\"><g transform=\"matrix(1,0,0,-1,0,-20.799999999999997)\"><polyline fill=\"none\" stroke=\"#66cc99\" stroke-width=\"0.6307200000000001\" points=\"2.2,4.2 7.0,-25.0 9.26,-2.456\" opacity=\"0.8\" /></g></svg>"
          },
          "metadata": {},
          "execution_count": 51
        }
      ]
    },
    {
      "cell_type": "code",
      "source": [
        "linea == linea2"
      ],
      "metadata": {
        "colab": {
          "base_uri": "https://localhost:8080/"
        },
        "id": "USinr9KbEeRu",
        "outputId": "97c31a91-ec9d-4401-e750-ab5046fafb3a"
      },
      "execution_count": 54,
      "outputs": [
        {
          "output_type": "execute_result",
          "data": {
            "text/plain": [
              "True"
            ]
          },
          "metadata": {},
          "execution_count": 54
        }
      ]
    },
    {
      "cell_type": "code",
      "source": [
        "linea.coords\n",
        "list(linea.coords)\n"
      ],
      "metadata": {
        "colab": {
          "base_uri": "https://localhost:8080/"
        },
        "id": "blkm4r4aEeFu",
        "outputId": "2cd4af62-7356-4f80-bfa0-d5cf1ee11051"
      },
      "execution_count": 56,
      "outputs": [
        {
          "output_type": "execute_result",
          "data": {
            "text/plain": [
              "[(2.2, 4.2), (7.0, -25.0), (9.26, -2.456)]"
            ]
          },
          "metadata": {},
          "execution_count": 56
        }
      ]
    },
    {
      "cell_type": "code",
      "source": [
        "xcoords = list(linea.xy[0])\n",
        "xcoords"
      ],
      "metadata": {
        "colab": {
          "base_uri": "https://localhost:8080/"
        },
        "id": "3X4pKVUJE0bd",
        "outputId": "6ee11069-c3ca-4285-f6fa-afdfff676551"
      },
      "execution_count": 61,
      "outputs": [
        {
          "output_type": "execute_result",
          "data": {
            "text/plain": [
              "[2.2, 7.0, 9.26]"
            ]
          },
          "metadata": {},
          "execution_count": 61
        }
      ]
    },
    {
      "cell_type": "code",
      "source": [
        "ycoords = list(linea.xy[1])\n",
        "ycoords"
      ],
      "metadata": {
        "colab": {
          "base_uri": "https://localhost:8080/"
        },
        "id": "aFuIiaV1E9Nx",
        "outputId": "e720d403-d9d9-4f1a-ea8b-3ec7240aa9f0"
      },
      "execution_count": 62,
      "outputs": [
        {
          "output_type": "execute_result",
          "data": {
            "text/plain": [
              "[4.2, -25.0, -2.456]"
            ]
          },
          "metadata": {},
          "execution_count": 62
        }
      ]
    },
    {
      "cell_type": "code",
      "source": [
        "longitud = linea.length\n",
        "longitud"
      ],
      "metadata": {
        "colab": {
          "base_uri": "https://localhost:8080/"
        },
        "id": "1LEHrAdJFFxm",
        "outputId": "ce949a9c-7270-4de7-d61a-6e4e07fa2e01"
      },
      "execution_count": 63,
      "outputs": [
        {
          "output_type": "execute_result",
          "data": {
            "text/plain": [
              "52.24888828738"
            ]
          },
          "metadata": {},
          "execution_count": 63
        }
      ]
    },
    {
      "cell_type": "code",
      "source": [
        "print(linea.centroid)"
      ],
      "metadata": {
        "colab": {
          "base_uri": "https://localhost:8080/"
        },
        "id": "36OzjzpyFIBu",
        "outputId": "6f5f27de-195e-4978-ae37-a44af04c0869"
      },
      "execution_count": 64,
      "outputs": [
        {
          "output_type": "stream",
          "name": "stdout",
          "text": [
            "POINT (6.130734984394282 -11.843140517865203)\n"
          ]
        }
      ]
    },
    {
      "cell_type": "code",
      "source": [
        "poligono = Polygon([(2.2,4.2),(7.2,-25.1),(-18,-12)])\n",
        "poligono"
      ],
      "metadata": {
        "colab": {
          "base_uri": "https://localhost:8080/",
          "height": 121
        },
        "id": "cLgsarGiFWj-",
        "outputId": "a50f6911-8fa2-4311-8710-84e904270ceb"
      },
      "execution_count": 66,
      "outputs": [
        {
          "output_type": "execute_result",
          "data": {
            "text/plain": [
              "<POLYGON ((2.2 4.2, 7.2 -25.1, -18 -12, 2.2 4.2))>"
            ],
            "image/svg+xml": "<svg xmlns=\"http://www.w3.org/2000/svg\" xmlns:xlink=\"http://www.w3.org/1999/xlink\" width=\"100.0\" height=\"100.0\" viewBox=\"-19.172 -26.272000000000002 27.544 31.644000000000002\" preserveAspectRatio=\"xMinYMin meet\"><g transform=\"matrix(1,0,0,-1,0,-20.900000000000002)\"><path fill-rule=\"evenodd\" fill=\"#66cc99\" stroke=\"#555555\" stroke-width=\"0.63288\" opacity=\"0.6\" d=\"M 2.2,4.2 L 7.2,-25.1 L -18.0,-12.0 L 2.2,4.2 z\" /></g></svg>"
          },
          "metadata": {},
          "execution_count": 66
        }
      ]
    },
    {
      "cell_type": "code",
      "source": [
        "contorno = [(-180,90),(-180,-90),(180,-90),(180,90)]\n",
        "agujero = [[(0,60),(-140,-60),(170,0)]]"
      ],
      "metadata": {
        "id": "5p5SaHfjFqD8"
      },
      "execution_count": 72,
      "outputs": []
    },
    {
      "cell_type": "code",
      "source": [
        "poligono = Polygon(shell=contorno,holes=agujero)\n",
        "poligono"
      ],
      "metadata": {
        "colab": {
          "base_uri": "https://localhost:8080/",
          "height": 230
        },
        "id": "Q6xoHT3bFz_Z",
        "outputId": "7f0d83d3-e457-4ede-b32f-bf0b8bc4fdd3"
      },
      "execution_count": 73,
      "outputs": [
        {
          "output_type": "execute_result",
          "data": {
            "text/plain": [
              "<POLYGON ((-180 90, -180 -90, 180 -90, 180 90, -180 90), (0 60, -140 -60, 17...>"
            ],
            "image/svg+xml": "<svg xmlns=\"http://www.w3.org/2000/svg\" xmlns:xlink=\"http://www.w3.org/1999/xlink\" width=\"300\" height=\"208.8\" viewBox=\"-194.4 -104.4 388.8 208.8\" preserveAspectRatio=\"xMinYMin meet\"><g transform=\"matrix(1,0,0,-1,0,0.0)\"><path fill-rule=\"evenodd\" fill=\"#66cc99\" stroke=\"#555555\" stroke-width=\"2.592\" opacity=\"0.6\" d=\"M -180.0,90.0 L -180.0,-90.0 L 180.0,-90.0 L 180.0,90.0 L -180.0,90.0 z M 0.0,60.0 L -140.0,-60.0 L 170.0,0.0 L 0.0,60.0 z\" /></g></svg>"
          },
          "metadata": {},
          "execution_count": 73
        }
      ]
    },
    {
      "cell_type": "code",
      "source": [
        "centroid = poligono.centroid\n",
        "print(centroid)"
      ],
      "metadata": {
        "colab": {
          "base_uri": "https://localhost:8080/"
        },
        "id": "gz6A32EYGyDW",
        "outputId": "ae285f64-ca39-4545-901c-bf618f660f5a"
      },
      "execution_count": 75,
      "outputs": [
        {
          "output_type": "stream",
          "name": "stdout",
          "text": [
            "POINT (-2.857142857142857 0)\n"
          ]
        }
      ]
    },
    {
      "cell_type": "code",
      "source": [
        "exterior = poligono.exterior\n",
        "print(exterior)"
      ],
      "metadata": {
        "colab": {
          "base_uri": "https://localhost:8080/"
        },
        "id": "mVAwesPTG7C3",
        "outputId": "7e7c1b54-2c72-4dc8-e9c5-45ac357d962f"
      },
      "execution_count": 76,
      "outputs": [
        {
          "output_type": "stream",
          "name": "stdout",
          "text": [
            "LINEARRING (-180 90, -180 -90, 180 -90, 180 90, -180 90)\n"
          ]
        }
      ]
    },
    {
      "cell_type": "code",
      "source": [
        "area = poligono.area\n",
        "print(area)"
      ],
      "metadata": {
        "colab": {
          "base_uri": "https://localhost:8080/"
        },
        "id": "bKRcBTNBG_91",
        "outputId": "055d73f6-75c8-4f80-e261-1395ffa3cc28"
      },
      "execution_count": 77,
      "outputs": [
        {
          "output_type": "stream",
          "name": "stdout",
          "text": [
            "50400.0\n"
          ]
        }
      ]
    },
    {
      "cell_type": "code",
      "source": [
        "length = poligono.length\n",
        "print(length)"
      ],
      "metadata": {
        "colab": {
          "base_uri": "https://localhost:8080/"
        },
        "id": "XUGEpbTDHDuU",
        "outputId": "6f8bdff5-2116-48d6-e8c9-c874ccf4b52c"
      },
      "execution_count": 80,
      "outputs": [
        {
          "output_type": "stream",
          "name": "stdout",
          "text": [
            "1760.4215209959962\n"
          ]
        }
      ]
    },
    {
      "cell_type": "code",
      "source": [
        "bounds = poligono.bounds\n",
        "print(bounds)"
      ],
      "metadata": {
        "colab": {
          "base_uri": "https://localhost:8080/"
        },
        "id": "cKR_PVSlHP0I",
        "outputId": "fc8f152a-528a-4619-9324-005888ab6555"
      },
      "execution_count": 81,
      "outputs": [
        {
          "output_type": "stream",
          "name": "stdout",
          "text": [
            "(-180.0, -90.0, 180.0, 90.0)\n"
          ]
        }
      ]
    },
    {
      "cell_type": "code",
      "source": [
        "## MultiPoint\n",
        "## MultiLineString\n",
        "## MultiPolygon"
      ],
      "metadata": {
        "id": "Kp9qjSN0HgAK"
      },
      "execution_count": null,
      "outputs": []
    }
  ]
}